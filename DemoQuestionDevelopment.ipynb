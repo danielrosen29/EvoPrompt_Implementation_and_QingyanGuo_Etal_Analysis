{
 "cells": [
  {
   "cell_type": "code",
   "execution_count": 1,
   "metadata": {},
   "outputs": [],
   "source": [
    "import openai"
   ]
  },
  {
   "cell_type": "code",
   "execution_count": 2,
   "metadata": {},
   "outputs": [],
   "source": [
    "from googleapiclient import discovery\n",
    "with open(\"C:/Users/danie/OneDrive/Desktop/openai_youtube_api_key.txt\") as f:\n",
    "    api_key = f.readline()\n",
    "\n",
    "openai.api_key = api_key"
   ]
  },
  {
   "cell_type": "code",
   "execution_count": 3,
   "metadata": {},
   "outputs": [],
   "source": [
    "ROLE_STR = \"You are an AI assistant. You will be given a task. Complete the task and explain in detail how you came to your conclusion.\"\n",
    "USER_STR = \"\"\"Your task is to determine if the following two sentences convey the same meaning. First, answer either with yes or no, then explain your reasoning. \n",
    "Sentence 1: The dog eagerly dug up the ground to find the bone it had buried yesterday.\n",
    "Sentence 2: Excited to retrieve what it hid, the dog unearthed the bone it stashed away the previous day.\"\"\""
   ]
  },
  {
   "cell_type": "code",
   "execution_count": 4,
   "metadata": {},
   "outputs": [
    {
     "data": {
      "text/plain": [
       "<OpenAIObject chat.completion id=chatcmpl-8DjA25qI0Y72eu9dJ7rdU5I474Kzu at 0x2b1b37d1d50> JSON: {\n",
       "  \"id\": \"chatcmpl-8DjA25qI0Y72eu9dJ7rdU5I474Kzu\",\n",
       "  \"object\": \"chat.completion\",\n",
       "  \"created\": 1698282554,\n",
       "  \"model\": \"gpt-3.5-turbo-0613\",\n",
       "  \"choices\": [\n",
       "    {\n",
       "      \"index\": 0,\n",
       "      \"message\": {\n",
       "        \"role\": \"assistant\",\n",
       "        \"content\": \"Yes, the two sentences convey the same meaning.\\n\\nIn both sentences, the subject is a dog that is actively searching for a buried bone. In both sentences, the dog is described as being eager, excited, and motivated to find the bone. Additionally, both sentences indicate that the bone was buried by the dog and that it had been buried the previous day.\\n\\nAlthough the wording and phrasing differ slightly between the two sentences, the overall message and intent of both sentences are the same. The use of synonyms like \\\"dug up\\\" and \\\"unearthed,\\\" \\\"find\\\" and \\\"retrieve,\\\" and \\\"buried\\\" and \\\"stashed away\\\" adds some variation in phrasing, but the essential meaning remains consistent.\\n\\nTherefore, after analyzing the context and synonyms used, it can be concluded that the two sentences convey the same meaning.\"\n",
       "      },\n",
       "      \"finish_reason\": \"stop\"\n",
       "    }\n",
       "  ],\n",
       "  \"usage\": {\n",
       "    \"prompt_tokens\": 113,\n",
       "    \"completion_tokens\": 168,\n",
       "    \"total_tokens\": 281\n",
       "  }\n",
       "}"
      ]
     },
     "execution_count": 4,
     "metadata": {},
     "output_type": "execute_result"
    }
   ],
   "source": [
    "openai.ChatCompletion.create(\n",
    "    model=\"gpt-3.5-turbo-0613\",\n",
    "    messages=[\n",
    "        {\"role\": \"system\", \"content\": f\"{ROLE_STR}\"},\n",
    "        {\"role\": \"user\", \"content\": f\"{USER_STR}\"}\n",
    "    ]\n",
    ")"
   ]
  }
 ],
 "metadata": {
  "kernelspec": {
   "display_name": "transformers",
   "language": "python",
   "name": "python3"
  },
  "language_info": {
   "codemirror_mode": {
    "name": "ipython",
    "version": 3
   },
   "file_extension": ".py",
   "mimetype": "text/x-python",
   "name": "python",
   "nbconvert_exporter": "python",
   "pygments_lexer": "ipython3",
   "version": "3.10.12"
  }
 },
 "nbformat": 4,
 "nbformat_minor": 2
}
